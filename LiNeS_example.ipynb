{
 "cells": [
  {
   "cell_type": "code",
   "execution_count": 3,
   "metadata": {},
   "outputs": [
    {
     "name": "stderr",
     "output_type": "stream",
     "text": [
      "/conda/envs/ta/lib/python3.10/site-packages/tqdm/auto.py:21: TqdmWarning: IProgress not found. Please update jupyter and ipywidgets. See https://ipywidgets.readthedocs.io/en/stable/user_install.html\n",
      "  from .autonotebook import tqdm as notebook_tqdm\n"
     ]
    }
   ],
   "source": [
    "import argparse\n",
    "\n",
    "import torch\n",
    "import numpy as np\n",
    "\n",
    "from src.eval.eval import eval_single_dataset\n",
    "from src.models.modeling import ImageEncoder\n",
    "\n",
    "args = argparse.ArgumentParser()\n",
    "args.model = \"ViT-B-32\"\n",
    "args.batch_size = 32\n",
    "args.device = \"cuda\"\n",
    "args.save_dir = \"temp\"\n",
    "args.data_location = \"/mnt/lts4/scratch/data\"\n",
    "args.checkpoint_path = \"/mnt/lts4/scratch/checkpoints/tall_mask_checkpoints/mount/model_checkpoints\""
   ]
  },
  {
   "cell_type": "code",
   "execution_count": 4,
   "metadata": {},
   "outputs": [
    {
     "name": "stdout",
     "output_type": "stream",
     "text": [
      "Target dataset: EuroSAT\n",
      "Control datasets: ['DTD', 'SUN397', 'MNIST', 'RESISC45', 'GTSRB', 'Cars', 'SVHN']\n"
     ]
    }
   ],
   "source": [
    "all_datasets = [\"EuroSAT\", \"DTD\", \"SUN397\", \"MNIST\", \"RESISC45\", \"GTSRB\", \"Cars\", \"SVHN\"]\n",
    "\n",
    "# choose the target (fine-tuned) task here; the rest will be used as control tasks\n",
    "target_dataset = \"EuroSAT\" \n",
    "control_datasets = all_datasets.copy()\n",
    "control_datasets.remove(target_dataset)\n",
    "all_datasets = [target_dataset] + control_datasets\n",
    "\n",
    "print(f\"Target dataset: {target_dataset}\")\n",
    "print(f\"Control datasets: {control_datasets}\")"
   ]
  },
  {
   "cell_type": "markdown",
   "metadata": {},
   "source": [
    "#### Load checkpoints and create task vector"
   ]
  },
  {
   "cell_type": "code",
   "execution_count": 5,
   "metadata": {},
   "outputs": [],
   "source": [
    "ft_checkpoint = torch.load(f\"{args.checkpoint_path}/ViT-B-32/{target_dataset}Val/nonlinear_finetuned.pt\") # load the checkpoint finetuned on \"StandfordCars\" dataset\n",
    "pt_checkpoint = torch.load(f\"{args.checkpoint_path}/ViT-B-32/MNISTVal/nonlinear_zeroshot.pt\") # load pre-trained model\n",
    "\n",
    "task_vector = {k: ft_checkpoint[k] - pt_checkpoint[k] for k in ft_checkpoint.keys()} # compute the task vector"
   ]
  },
  {
   "cell_type": "markdown",
   "metadata": {},
   "source": [
    "#### Evaluate the zero-shot accuracy of the pre-trained model"
   ]
  },
  {
   "cell_type": "code",
   "execution_count": 6,
   "metadata": {},
   "outputs": [
    {
     "data": {
      "text/plain": [
       "<All keys matched successfully>"
      ]
     },
     "execution_count": 6,
     "metadata": {},
     "output_type": "execute_result"
    }
   ],
   "source": [
    "# load the pre-trained model\n",
    "pt_image_encoder = ImageEncoder(\"ViT-B-32\")\n",
    "pt_image_encoder.load_state_dict(pt_checkpoint)"
   ]
  },
  {
   "cell_type": "code",
   "execution_count": 7,
   "metadata": {},
   "outputs": [
    {
     "name": "stdout",
     "output_type": "stream",
     "text": [
      "Loading classification head for ViT-B-32 on EuroSATVal from temp/head_EuroSATVal.pt\n",
      "Done evaluating on EuroSAT.\t Accuracy: 46.50%.\t Total time: 27.81s\n",
      "****************************************************************************************************\n",
      "Zero-shot accuracy on dataset EuroSAT: 0.4650\n",
      "Loading classification head for ViT-B-32 on DTDVal from temp/head_DTDVal.pt\n",
      "Done evaluating on DTD.\t Accuracy: 43.99%.\t Total time: 31.27s\n",
      "****************************************************************************************************\n",
      "Zero-shot accuracy on dataset DTD: 0.4399\n",
      "Loading classification head for ViT-B-32 on SUN397Val from temp/head_SUN397Val.pt\n",
      "Done evaluating on SUN397.\t Accuracy: 63.16%.\t Total time: 626.21s\n",
      "****************************************************************************************************\n",
      "Zero-shot accuracy on dataset SUN397: 0.6316\n",
      "Loading classification head for ViT-B-32 on MNISTVal from temp/head_MNISTVal.pt\n",
      "Done evaluating on MNIST.\t Accuracy: 48.26%.\t Total time: 14.01s\n",
      "****************************************************************************************************\n",
      "Zero-shot accuracy on dataset MNIST: 0.4826\n",
      "Loading classification head for ViT-B-32 on RESISC45Val from temp/head_RESISC45Val.pt\n",
      "Done evaluating on RESISC45.\t Accuracy: 60.67%.\t Total time: 19.61s\n",
      "****************************************************************************************************\n",
      "Zero-shot accuracy on dataset RESISC45: 0.6067\n",
      "Loading classification head for ViT-B-32 on GTSRBVal from temp/head_GTSRBVal.pt\n",
      "Done evaluating on GTSRB.\t Accuracy: 32.60%.\t Total time: 22.94s\n",
      "****************************************************************************************************\n",
      "Zero-shot accuracy on dataset GTSRB: 0.3260\n",
      "Loading classification head for ViT-B-32 on CarsVal from temp/head_CarsVal.pt\n",
      "Done evaluating on Cars.\t Accuracy: 59.73%.\t Total time: 75.69s\n",
      "****************************************************************************************************\n",
      "Zero-shot accuracy on dataset Cars: 0.5973\n",
      "Loading classification head for ViT-B-32 on SVHNVal from temp/head_SVHNVal.pt\n",
      "Using downloaded and verified file: /mnt/lts4/scratch/data/svhn/train_32x32.mat\n",
      "Using downloaded and verified file: /mnt/lts4/scratch/data/svhn/test_32x32.mat\n",
      "Done evaluating on SVHN.\t Accuracy: 31.63%.\t Total time: 32.51s\n",
      "****************************************************************************************************\n",
      "Zero-shot accuracy on dataset SVHN: 0.3163\n"
     ]
    }
   ],
   "source": [
    "# evaluate on all datasets\n",
    "zeroshot_accuracies = {}\n",
    "\n",
    "for dataset in all_datasets:\n",
    "    zeroshot_accuracy = eval_single_dataset(pt_image_encoder, dataset, args)\n",
    "    zeroshot_accuracies[dataset] = zeroshot_accuracy\n",
    "    print(\"*\"*100)\n",
    "    print(f\"Zero-shot accuracy on dataset {dataset}: {zeroshot_accuracy['top1']:.4f}\")"
   ]
  },
  {
   "cell_type": "markdown",
   "metadata": {},
   "source": [
    "#### Evaluate the fine-tuned model on fine-tuned dataset and control datasets"
   ]
  },
  {
   "cell_type": "code",
   "execution_count": 8,
   "metadata": {},
   "outputs": [
    {
     "data": {
      "text/plain": [
       "<All keys matched successfully>"
      ]
     },
     "execution_count": 8,
     "metadata": {},
     "output_type": "execute_result"
    }
   ],
   "source": [
    "# load the finetuned checkpoint\n",
    "ft_image_encoder = ImageEncoder(\"ViT-B-32\")\n",
    "ft_image_encoder.load_state_dict(ft_checkpoint)"
   ]
  },
  {
   "cell_type": "code",
   "execution_count": 9,
   "metadata": {},
   "outputs": [
    {
     "name": "stdout",
     "output_type": "stream",
     "text": [
      "Loading classification head for ViT-B-32 on EuroSATVal from temp/head_EuroSATVal.pt\n",
      "Done evaluating on EuroSAT.\t Accuracy: 99.87%.\t Total time: 10.79s\n",
      "Accuracy on target dataset EuroSAT: 0.9987, 167.21% the performance compared to zero-shot\n",
      "Loading classification head for ViT-B-32 on DTDVal from temp/head_DTDVal.pt\n",
      "Done evaluating on DTD.\t Accuracy: 37.50%.\t Total time: 17.09s\n",
      "****************************************************************************************************\n",
      "Accuracy on control dataset DTD: 0.3750, 85.25% compared to zero-shot\n",
      "Loading classification head for ViT-B-32 on SUN397Val from temp/head_SUN397Val.pt\n"
     ]
    }
   ],
   "source": [
    "ft_accuracies = {}\n",
    "\n",
    "# evaluate on fine-tuned (target) dataset\n",
    "ft_accuracies[target_dataset] = eval_single_dataset(ft_image_encoder, target_dataset, args)\n",
    "print(f\"Accuracy on target dataset {target_dataset}: {ft_accuracies[target_dataset]['top1']:.4f}, {ft_accuracies[target_dataset]['top1'] / zeroshot_accuracies['Cars']['top1'] * 100:.2f}% the performance compared to zero-shot\")\n",
    "\n",
    "# evaluate on control datasets\n",
    "for control_dataset in control_datasets:\n",
    "    ft_accuracies[control_dataset] = eval_single_dataset(ft_image_encoder, control_dataset, args)\n",
    "    print(\"*\"*100)\n",
    "    print(f\"Accuracy on control dataset {control_dataset}: {ft_accuracies[control_dataset]['top1']:.4f}, {ft_accuracies[control_dataset]['top1'] / zeroshot_accuracies[control_dataset]['top1'] * 100:.2f}% compared to zero-shot\")"
   ]
  },
  {
   "cell_type": "markdown",
   "metadata": {},
   "source": [
    "#### Evaluate the fine-tuned model edited with LiNeS, on fine-tuned and control datasets"
   ]
  },
  {
   "cell_type": "code",
   "execution_count": null,
   "metadata": {},
   "outputs": [],
   "source": [
    "def line_scaling(task_vector, alpha=0.0, beta=1.0, num_blocks=12):\n",
    "    \"\"\"\n",
    "    Progressively scales the task vector based on layer depth.\n",
    "\n",
    "    Parameters:\n",
    "    -----------\n",
    "    task_vector : dict\n",
    "        A dictionary representing the residual between the fine-tuned checkpoint \n",
    "        and the pre-trained checkpoint. \n",
    "    alpha : float\n",
    "         The minimum scaling factor for the blocks.\n",
    "    beta : float\n",
    "        The maximum scaling coefficient difference between the last and first block.\n",
    "    num_blocks : int\n",
    "        The total number of layer blocks in the model. \n",
    "    Returns:\n",
    "    --------\n",
    "    scaled_task_vector : dict\n",
    "        A copy of `task_vector` where each key is scaled based on the layer depth.\n",
    "    \"\"\"\n",
    "    \n",
    "    import copy\n",
    "    \n",
    "    # Deep copy the task vector to avoid modifying the original\n",
    "    scaled_task_vector = copy.deepcopy(task_vector)\n",
    "\n",
    "    # Generate the key blocks corresponding to the layers of the model\n",
    "    key_blocks = [f\".resblocks.{i}.\" for i in range(num_blocks)]\n",
    "\n",
    "    # Create a scaling dictionary to store the scaling factor for each key\n",
    "    scaling_dic = {}\n",
    "    for k in task_vector.keys():\n",
    "        # Find the layer block in the key and assign scaling factor based on layer depth\n",
    "        for layer, block in enumerate(key_blocks):\n",
    "            if block in k:\n",
    "                scaling_dic[k] = alpha + beta * (layer / (num_blocks - 1))\n",
    "                break\n",
    "\n",
    "    print(f\"Scaling range for the layers: {alpha} to {alpha + beta}\")\n",
    "\n",
    "    # Scale the task vector based on the scaling dictionary\n",
    "    scaled_task_vector = {\n",
    "        # Use alpha if layer is outside residual blocks\n",
    "        k: task_vector[k] * scaling_dic.get(k, alpha)  \n",
    "        for k in task_vector.keys()\n",
    "    }\n",
    "\n",
    "    return scaled_task_vector"
   ]
  },
  {
   "cell_type": "code",
   "execution_count": null,
   "metadata": {},
   "outputs": [
    {
     "name": "stdout",
     "output_type": "stream",
     "text": [
      "Scaling dictionary: {'model.visual.transformer.resblocks.0.ln_1.weight': 0.1, 'model.visual.transformer.resblocks.0.ln_1.bias': 0.1, 'model.visual.transformer.resblocks.0.attn.in_proj_weight': 0.1, 'model.visual.transformer.resblocks.0.attn.in_proj_bias': 0.1, 'model.visual.transformer.resblocks.0.attn.out_proj.weight': 0.1, 'model.visual.transformer.resblocks.0.attn.out_proj.bias': 0.1, 'model.visual.transformer.resblocks.0.ln_2.weight': 0.1, 'model.visual.transformer.resblocks.0.ln_2.bias': 0.1, 'model.visual.transformer.resblocks.0.mlp.c_fc.weight': 0.1, 'model.visual.transformer.resblocks.0.mlp.c_fc.bias': 0.1, 'model.visual.transformer.resblocks.0.mlp.c_proj.weight': 0.1, 'model.visual.transformer.resblocks.0.mlp.c_proj.bias': 0.1, 'model.visual.transformer.resblocks.1.ln_1.weight': 0.18181818181818182, 'model.visual.transformer.resblocks.1.ln_1.bias': 0.18181818181818182, 'model.visual.transformer.resblocks.1.attn.in_proj_weight': 0.18181818181818182, 'model.visual.transformer.resblocks.1.attn.in_proj_bias': 0.18181818181818182, 'model.visual.transformer.resblocks.1.attn.out_proj.weight': 0.18181818181818182, 'model.visual.transformer.resblocks.1.attn.out_proj.bias': 0.18181818181818182, 'model.visual.transformer.resblocks.1.ln_2.weight': 0.18181818181818182, 'model.visual.transformer.resblocks.1.ln_2.bias': 0.18181818181818182, 'model.visual.transformer.resblocks.1.mlp.c_fc.weight': 0.18181818181818182, 'model.visual.transformer.resblocks.1.mlp.c_fc.bias': 0.18181818181818182, 'model.visual.transformer.resblocks.1.mlp.c_proj.weight': 0.18181818181818182, 'model.visual.transformer.resblocks.1.mlp.c_proj.bias': 0.18181818181818182, 'model.visual.transformer.resblocks.2.ln_1.weight': 0.26363636363636367, 'model.visual.transformer.resblocks.2.ln_1.bias': 0.26363636363636367, 'model.visual.transformer.resblocks.2.attn.in_proj_weight': 0.26363636363636367, 'model.visual.transformer.resblocks.2.attn.in_proj_bias': 0.26363636363636367, 'model.visual.transformer.resblocks.2.attn.out_proj.weight': 0.26363636363636367, 'model.visual.transformer.resblocks.2.attn.out_proj.bias': 0.26363636363636367, 'model.visual.transformer.resblocks.2.ln_2.weight': 0.26363636363636367, 'model.visual.transformer.resblocks.2.ln_2.bias': 0.26363636363636367, 'model.visual.transformer.resblocks.2.mlp.c_fc.weight': 0.26363636363636367, 'model.visual.transformer.resblocks.2.mlp.c_fc.bias': 0.26363636363636367, 'model.visual.transformer.resblocks.2.mlp.c_proj.weight': 0.26363636363636367, 'model.visual.transformer.resblocks.2.mlp.c_proj.bias': 0.26363636363636367, 'model.visual.transformer.resblocks.3.ln_1.weight': 0.34545454545454546, 'model.visual.transformer.resblocks.3.ln_1.bias': 0.34545454545454546, 'model.visual.transformer.resblocks.3.attn.in_proj_weight': 0.34545454545454546, 'model.visual.transformer.resblocks.3.attn.in_proj_bias': 0.34545454545454546, 'model.visual.transformer.resblocks.3.attn.out_proj.weight': 0.34545454545454546, 'model.visual.transformer.resblocks.3.attn.out_proj.bias': 0.34545454545454546, 'model.visual.transformer.resblocks.3.ln_2.weight': 0.34545454545454546, 'model.visual.transformer.resblocks.3.ln_2.bias': 0.34545454545454546, 'model.visual.transformer.resblocks.3.mlp.c_fc.weight': 0.34545454545454546, 'model.visual.transformer.resblocks.3.mlp.c_fc.bias': 0.34545454545454546, 'model.visual.transformer.resblocks.3.mlp.c_proj.weight': 0.34545454545454546, 'model.visual.transformer.resblocks.3.mlp.c_proj.bias': 0.34545454545454546, 'model.visual.transformer.resblocks.4.ln_1.weight': 0.42727272727272725, 'model.visual.transformer.resblocks.4.ln_1.bias': 0.42727272727272725, 'model.visual.transformer.resblocks.4.attn.in_proj_weight': 0.42727272727272725, 'model.visual.transformer.resblocks.4.attn.in_proj_bias': 0.42727272727272725, 'model.visual.transformer.resblocks.4.attn.out_proj.weight': 0.42727272727272725, 'model.visual.transformer.resblocks.4.attn.out_proj.bias': 0.42727272727272725, 'model.visual.transformer.resblocks.4.ln_2.weight': 0.42727272727272725, 'model.visual.transformer.resblocks.4.ln_2.bias': 0.42727272727272725, 'model.visual.transformer.resblocks.4.mlp.c_fc.weight': 0.42727272727272725, 'model.visual.transformer.resblocks.4.mlp.c_fc.bias': 0.42727272727272725, 'model.visual.transformer.resblocks.4.mlp.c_proj.weight': 0.42727272727272725, 'model.visual.transformer.resblocks.4.mlp.c_proj.bias': 0.42727272727272725, 'model.visual.transformer.resblocks.5.ln_1.weight': 0.509090909090909, 'model.visual.transformer.resblocks.5.ln_1.bias': 0.509090909090909, 'model.visual.transformer.resblocks.5.attn.in_proj_weight': 0.509090909090909, 'model.visual.transformer.resblocks.5.attn.in_proj_bias': 0.509090909090909, 'model.visual.transformer.resblocks.5.attn.out_proj.weight': 0.509090909090909, 'model.visual.transformer.resblocks.5.attn.out_proj.bias': 0.509090909090909, 'model.visual.transformer.resblocks.5.ln_2.weight': 0.509090909090909, 'model.visual.transformer.resblocks.5.ln_2.bias': 0.509090909090909, 'model.visual.transformer.resblocks.5.mlp.c_fc.weight': 0.509090909090909, 'model.visual.transformer.resblocks.5.mlp.c_fc.bias': 0.509090909090909, 'model.visual.transformer.resblocks.5.mlp.c_proj.weight': 0.509090909090909, 'model.visual.transformer.resblocks.5.mlp.c_proj.bias': 0.509090909090909, 'model.visual.transformer.resblocks.6.ln_1.weight': 0.5909090909090909, 'model.visual.transformer.resblocks.6.ln_1.bias': 0.5909090909090909, 'model.visual.transformer.resblocks.6.attn.in_proj_weight': 0.5909090909090909, 'model.visual.transformer.resblocks.6.attn.in_proj_bias': 0.5909090909090909, 'model.visual.transformer.resblocks.6.attn.out_proj.weight': 0.5909090909090909, 'model.visual.transformer.resblocks.6.attn.out_proj.bias': 0.5909090909090909, 'model.visual.transformer.resblocks.6.ln_2.weight': 0.5909090909090909, 'model.visual.transformer.resblocks.6.ln_2.bias': 0.5909090909090909, 'model.visual.transformer.resblocks.6.mlp.c_fc.weight': 0.5909090909090909, 'model.visual.transformer.resblocks.6.mlp.c_fc.bias': 0.5909090909090909, 'model.visual.transformer.resblocks.6.mlp.c_proj.weight': 0.5909090909090909, 'model.visual.transformer.resblocks.6.mlp.c_proj.bias': 0.5909090909090909, 'model.visual.transformer.resblocks.7.ln_1.weight': 0.6727272727272727, 'model.visual.transformer.resblocks.7.ln_1.bias': 0.6727272727272727, 'model.visual.transformer.resblocks.7.attn.in_proj_weight': 0.6727272727272727, 'model.visual.transformer.resblocks.7.attn.in_proj_bias': 0.6727272727272727, 'model.visual.transformer.resblocks.7.attn.out_proj.weight': 0.6727272727272727, 'model.visual.transformer.resblocks.7.attn.out_proj.bias': 0.6727272727272727, 'model.visual.transformer.resblocks.7.ln_2.weight': 0.6727272727272727, 'model.visual.transformer.resblocks.7.ln_2.bias': 0.6727272727272727, 'model.visual.transformer.resblocks.7.mlp.c_fc.weight': 0.6727272727272727, 'model.visual.transformer.resblocks.7.mlp.c_fc.bias': 0.6727272727272727, 'model.visual.transformer.resblocks.7.mlp.c_proj.weight': 0.6727272727272727, 'model.visual.transformer.resblocks.7.mlp.c_proj.bias': 0.6727272727272727, 'model.visual.transformer.resblocks.8.ln_1.weight': 0.7545454545454545, 'model.visual.transformer.resblocks.8.ln_1.bias': 0.7545454545454545, 'model.visual.transformer.resblocks.8.attn.in_proj_weight': 0.7545454545454545, 'model.visual.transformer.resblocks.8.attn.in_proj_bias': 0.7545454545454545, 'model.visual.transformer.resblocks.8.attn.out_proj.weight': 0.7545454545454545, 'model.visual.transformer.resblocks.8.attn.out_proj.bias': 0.7545454545454545, 'model.visual.transformer.resblocks.8.ln_2.weight': 0.7545454545454545, 'model.visual.transformer.resblocks.8.ln_2.bias': 0.7545454545454545, 'model.visual.transformer.resblocks.8.mlp.c_fc.weight': 0.7545454545454545, 'model.visual.transformer.resblocks.8.mlp.c_fc.bias': 0.7545454545454545, 'model.visual.transformer.resblocks.8.mlp.c_proj.weight': 0.7545454545454545, 'model.visual.transformer.resblocks.8.mlp.c_proj.bias': 0.7545454545454545, 'model.visual.transformer.resblocks.9.ln_1.weight': 0.8363636363636364, 'model.visual.transformer.resblocks.9.ln_1.bias': 0.8363636363636364, 'model.visual.transformer.resblocks.9.attn.in_proj_weight': 0.8363636363636364, 'model.visual.transformer.resblocks.9.attn.in_proj_bias': 0.8363636363636364, 'model.visual.transformer.resblocks.9.attn.out_proj.weight': 0.8363636363636364, 'model.visual.transformer.resblocks.9.attn.out_proj.bias': 0.8363636363636364, 'model.visual.transformer.resblocks.9.ln_2.weight': 0.8363636363636364, 'model.visual.transformer.resblocks.9.ln_2.bias': 0.8363636363636364, 'model.visual.transformer.resblocks.9.mlp.c_fc.weight': 0.8363636363636364, 'model.visual.transformer.resblocks.9.mlp.c_fc.bias': 0.8363636363636364, 'model.visual.transformer.resblocks.9.mlp.c_proj.weight': 0.8363636363636364, 'model.visual.transformer.resblocks.9.mlp.c_proj.bias': 0.8363636363636364, 'model.visual.transformer.resblocks.10.ln_1.weight': 0.9181818181818181, 'model.visual.transformer.resblocks.10.ln_1.bias': 0.9181818181818181, 'model.visual.transformer.resblocks.10.attn.in_proj_weight': 0.9181818181818181, 'model.visual.transformer.resblocks.10.attn.in_proj_bias': 0.9181818181818181, 'model.visual.transformer.resblocks.10.attn.out_proj.weight': 0.9181818181818181, 'model.visual.transformer.resblocks.10.attn.out_proj.bias': 0.9181818181818181, 'model.visual.transformer.resblocks.10.ln_2.weight': 0.9181818181818181, 'model.visual.transformer.resblocks.10.ln_2.bias': 0.9181818181818181, 'model.visual.transformer.resblocks.10.mlp.c_fc.weight': 0.9181818181818181, 'model.visual.transformer.resblocks.10.mlp.c_fc.bias': 0.9181818181818181, 'model.visual.transformer.resblocks.10.mlp.c_proj.weight': 0.9181818181818181, 'model.visual.transformer.resblocks.10.mlp.c_proj.bias': 0.9181818181818181, 'model.visual.transformer.resblocks.11.ln_1.weight': 1.0, 'model.visual.transformer.resblocks.11.ln_1.bias': 1.0, 'model.visual.transformer.resblocks.11.attn.in_proj_weight': 1.0, 'model.visual.transformer.resblocks.11.attn.in_proj_bias': 1.0, 'model.visual.transformer.resblocks.11.attn.out_proj.weight': 1.0, 'model.visual.transformer.resblocks.11.attn.out_proj.bias': 1.0, 'model.visual.transformer.resblocks.11.ln_2.weight': 1.0, 'model.visual.transformer.resblocks.11.ln_2.bias': 1.0, 'model.visual.transformer.resblocks.11.mlp.c_fc.weight': 1.0, 'model.visual.transformer.resblocks.11.mlp.c_fc.bias': 1.0, 'model.visual.transformer.resblocks.11.mlp.c_proj.weight': 1.0, 'model.visual.transformer.resblocks.11.mlp.c_proj.bias': 1.0}\n"
     ]
    },
    {
     "data": {
      "text/plain": [
       "<All keys matched successfully>"
      ]
     },
     "execution_count": 9,
     "metadata": {},
     "output_type": "execute_result"
    }
   ],
   "source": [
    "scaled_task_vector = line_scaling(task_vector, alpha=0.1, beta=0.9, num_blocks=12)\n",
    "ft_lines_checkpoint = {k: pt_checkpoint[k] + scaled_task_vector[k] for k in pt_checkpoint.keys()}\n",
    "\n",
    "ft_lines_image_encoder = ImageEncoder(\"ViT-B-32\")\n",
    "ft_lines_image_encoder.load_state_dict(ft_lines_checkpoint)"
   ]
  },
  {
   "cell_type": "code",
   "execution_count": null,
   "metadata": {},
   "outputs": [
    {
     "name": "stdout",
     "output_type": "stream",
     "text": [
      "Loading classification head for ViT-B-32 on EuroSATVal from temp/head_EuroSATVal.pt\n",
      "Done evaluating on EuroSAT.\t Accuracy: 98.70%.\t Total time: 16.06s\n",
      "Accuracy on target dataset EuroSAT: 0.9870, 165.24% the performance compared to zero-shot, 98.83% the performance compared to fine-tuned\n",
      "Loading classification head for ViT-B-32 on DTDVal from temp/head_DTDVal.pt\n",
      "Done evaluating on DTD.\t Accuracy: 43.83%.\t Total time: 8.25s\n",
      "****************************************************************************************************\n",
      "Accuracy on control dataset DTD: 0.4383, 99.64% compared to zero-shot\n",
      "Loading classification head for ViT-B-32 on SUN397Val from temp/head_SUN397Val.pt\n",
      "Done evaluating on SUN397.\t Accuracy: 61.98%.\t Total time: 71.30s\n",
      "****************************************************************************************************\n",
      "Accuracy on control dataset SUN397: 0.6198, 98.13% compared to zero-shot\n",
      "Loading classification head for ViT-B-32 on MNISTVal from temp/head_MNISTVal.pt\n",
      "Done evaluating on MNIST.\t Accuracy: 55.52%.\t Total time: 12.38s\n",
      "****************************************************************************************************\n",
      "Accuracy on control dataset MNIST: 0.5552, 115.04% compared to zero-shot\n",
      "Loading classification head for ViT-B-32 on RESISC45Val from temp/head_RESISC45Val.pt\n",
      "Done evaluating on RESISC45.\t Accuracy: 46.51%.\t Total time: 13.32s\n",
      "****************************************************************************************************\n",
      "Accuracy on control dataset RESISC45: 0.4651, 76.66% compared to zero-shot\n",
      "Loading classification head for ViT-B-32 on GTSRBVal from temp/head_GTSRBVal.pt\n",
      "Done evaluating on GTSRB.\t Accuracy: 34.32%.\t Total time: 17.05s\n",
      "****************************************************************************************************\n",
      "Accuracy on control dataset GTSRB: 0.3432, 105.25% compared to zero-shot\n",
      "Loading classification head for ViT-B-32 on CarsVal from temp/head_CarsVal.pt\n",
      "Done evaluating on Cars.\t Accuracy: 58.04%.\t Total time: 12.51s\n",
      "****************************************************************************************************\n",
      "Accuracy on control dataset Cars: 0.5804, 97.17% compared to zero-shot\n",
      "Loading classification head for ViT-B-32 on SVHNVal from temp/head_SVHNVal.pt\n",
      "Using downloaded and verified file: /mnt/lts4/scratch/data/svhn/train_32x32.mat\n",
      "Using downloaded and verified file: /mnt/lts4/scratch/data/svhn/test_32x32.mat\n",
      "Done evaluating on SVHN.\t Accuracy: 33.91%.\t Total time: 38.99s\n",
      "****************************************************************************************************\n",
      "Accuracy on control dataset SVHN: 0.3391, 107.21% compared to zero-shot\n"
     ]
    }
   ],
   "source": [
    "lines_accuracies = {}\n",
    "\n",
    "# evaluate on fine-tuned (target) dataset\n",
    "lines_accuracies[target_dataset] = eval_single_dataset(ft_lines_image_encoder, target_dataset, args)\n",
    "print(f\"Accuracy on target dataset {target_dataset}: {lines_accuracies[target_dataset]['top1']:.4f}, {lines_accuracies[target_dataset]['top1'] / zeroshot_accuracies['Cars']['top1'] * 100:.2f}% the performance compared to zero-shot, {lines_accuracies[target_dataset]['top1'] / ft_accuracies[target_dataset]['top1'] * 100:.2f}% the performance compared to fine-tuned\")\n",
    "\n",
    "# evaluate on control datasets\n",
    "for control_dataset in control_datasets:\n",
    "    lines_accuracies[control_dataset] = eval_single_dataset(ft_lines_image_encoder, control_dataset, args)\n",
    "    print(\"*\"*100)\n",
    "    print(f\"Accuracy on control dataset {control_dataset}: {lines_accuracies[control_dataset]['top1']:.4f}, {lines_accuracies[control_dataset]['top1'] / zeroshot_accuracies[control_dataset]['top1'] * 100:.2f}% compared to zero-shot\")"
   ]
  },
  {
   "cell_type": "markdown",
   "metadata": {},
   "source": [
    "#### Result comparison"
   ]
  },
  {
   "cell_type": "markdown",
   "metadata": {},
   "source": [
    "Separately for each task:"
   ]
  },
  {
   "cell_type": "code",
   "execution_count": null,
   "metadata": {},
   "outputs": [
    {
     "data": {
      "image/png": "[encoded data removed]",
      "text/plain": [
       "<Figure size 700x400 with 1 Axes>"
      ]
     },
     "metadata": {},
     "output_type": "display_data"
    }
   ],
   "source": [
    "# plot for each method: zeroshot, ft, lines, a bar plot for the accuracies on each dataset\n",
    "import matplotlib.pyplot as plt\n",
    "\n",
    "datasets = all_datasets\n",
    "zeroshot_accuracies_list = [zeroshot_accuracies[dataset]['top1'] for dataset in datasets]\n",
    "ft_accuracies_list = [ft_accuracies[dataset]['top1'] for dataset in datasets]\n",
    "lines_accuracies_list = [lines_accuracies[dataset]['top1'] for dataset in datasets]\n",
    "\n",
    "x = np.arange(len(datasets))\n",
    "width = 0.25\n",
    "\n",
    "fig, ax = plt.subplots(figsize=(7, 4))\n",
    "rects1 = ax.bar(x - width - 0.01, zeroshot_accuracies_list, width, label='Zero-shot', color='tab:blue')\n",
    "rects2 = ax.bar(x, ft_accuracies_list, width, label='Fine-tuned', color='tab:green')\n",
    "rects3 = ax.bar(x + width+0.01, lines_accuracies_list, width, label='Fine-tuned + Lines', color='tab:orange')\n",
    "\n",
    "ax.set_ylabel('Accuracy', fontsize=14)\n",
    "ax.set_title(f'Accuracy on each dataset (Finetuned on {target_dataset} dataset)', fontsize=14)\n",
    "ax.set_xticks(x)\n",
    "ax.set_xticklabels(datasets)\n",
    "\n",
    "# show the legend with rects1, re\n",
    "ax.legend()\n",
    "\n",
    "fig.tight_layout()\n",
    "plt.show()"
   ]
  },
  {
   "cell_type": "markdown",
   "metadata": {},
   "source": [
    "Averaged the accuracy for control tasks:"
   ]
  },
  {
   "cell_type": "code",
   "execution_count": null,
   "metadata": {},
   "outputs": [
    {
     "ename": "NameError",
     "evalue": "name 'all_datasets' is not defined",
     "output_type": "error",
     "traceback": [
      "\u001b[0;31m---------------------------------------------------------------------------\u001b[0m",
      "\u001b[0;31mNameError\u001b[0m                                 Traceback (most recent call last)",
      "\u001b[1;32m/mnt/lts4/scratch/home/kewang/task_arithmetic/LiNeS/LiNeS_example copy.ipynb Cell 20\u001b[0m line \u001b[0;36m4\n\u001b[1;32m      <a href='vscode-notebook-cell://k8s-container%2Bcontext%3Drunai-authenticated-user%2Bpodname%3D1gpu-0-0%2Bnamespace%3Drunai-lts4-kewang%2Bname%3Dcontainer-name%2Bimage%3Dregistry.rcp.epfl.ch%252flts4-kewang%252fmy-toolbox%253av0.1/mnt/lts4/scratch/home/kewang/task_arithmetic/LiNeS/LiNeS_example%20copy.ipynb#X24sdnNjb2RlLXJlbW90ZQ%3D%3D?line=0'>1</a>\u001b[0m \u001b[39m# plot for each method: zeroshot, ft, lines, a bar plot for the accuracies on each dataset\u001b[39;00m\n\u001b[1;32m      <a href='vscode-notebook-cell://k8s-container%2Bcontext%3Drunai-authenticated-user%2Bpodname%3D1gpu-0-0%2Bnamespace%3Drunai-lts4-kewang%2Bname%3Dcontainer-name%2Bimage%3Dregistry.rcp.epfl.ch%252flts4-kewang%252fmy-toolbox%253av0.1/mnt/lts4/scratch/home/kewang/task_arithmetic/LiNeS/LiNeS_example%20copy.ipynb#X24sdnNjb2RlLXJlbW90ZQ%3D%3D?line=1'>2</a>\u001b[0m \u001b[39mimport\u001b[39;00m \u001b[39mmatplotlib\u001b[39;00m\u001b[39m.\u001b[39;00m\u001b[39mpyplot\u001b[39;00m \u001b[39mas\u001b[39;00m \u001b[39mplt\u001b[39;00m\n\u001b[0;32m----> <a href='vscode-notebook-cell://k8s-container%2Bcontext%3Drunai-authenticated-user%2Bpodname%3D1gpu-0-0%2Bnamespace%3Drunai-lts4-kewang%2Bname%3Dcontainer-name%2Bimage%3Dregistry.rcp.epfl.ch%252flts4-kewang%252fmy-toolbox%253av0.1/mnt/lts4/scratch/home/kewang/task_arithmetic/LiNeS/LiNeS_example%20copy.ipynb#X24sdnNjb2RlLXJlbW90ZQ%3D%3D?line=3'>4</a>\u001b[0m datasets \u001b[39m=\u001b[39m all_datasets\n\u001b[1;32m      <a href='vscode-notebook-cell://k8s-container%2Bcontext%3Drunai-authenticated-user%2Bpodname%3D1gpu-0-0%2Bnamespace%3Drunai-lts4-kewang%2Bname%3Dcontainer-name%2Bimage%3Dregistry.rcp.epfl.ch%252flts4-kewang%252fmy-toolbox%253av0.1/mnt/lts4/scratch/home/kewang/task_arithmetic/LiNeS/LiNeS_example%20copy.ipynb#X24sdnNjb2RlLXJlbW90ZQ%3D%3D?line=4'>5</a>\u001b[0m zeroshot_accuracies_avg \u001b[39m=\u001b[39m [zeroshot_accuracies_list[\u001b[39m0\u001b[39m], np\u001b[39m.\u001b[39mmean(zeroshot_accuracies_list[\u001b[39m1\u001b[39m:])]\n\u001b[1;32m      <a href='vscode-notebook-cell://k8s-container%2Bcontext%3Drunai-authenticated-user%2Bpodname%3D1gpu-0-0%2Bnamespace%3Drunai-lts4-kewang%2Bname%3Dcontainer-name%2Bimage%3Dregistry.rcp.epfl.ch%252flts4-kewang%252fmy-toolbox%253av0.1/mnt/lts4/scratch/home/kewang/task_arithmetic/LiNeS/LiNeS_example%20copy.ipynb#X24sdnNjb2RlLXJlbW90ZQ%3D%3D?line=5'>6</a>\u001b[0m ft_accuracies_avg \u001b[39m=\u001b[39m [ft_accuracies_list[\u001b[39m0\u001b[39m], np\u001b[39m.\u001b[39mmean(ft_accuracies_list[\u001b[39m1\u001b[39m:])]\n",
      "\u001b[0;31mNameError\u001b[0m: name 'all_datasets' is not defined"
     ]
    }
   ],
   "source": [
    "# plot for each method: zeroshot, ft, lines, a bar plot for the accuracies on each dataset\n",
    "import matplotlib.pyplot as plt\n",
    "\n",
    "datasets = all_datasets\n",
    "zeroshot_accuracies_avg = [zeroshot_accuracies_list[0], np.mean(zeroshot_accuracies_list[1:])]\n",
    "ft_accuracies_avg = [ft_accuracies_list[0], np.mean(ft_accuracies_list[1:])]\n",
    "lines_accuracies_avg = [lines_accuracies_list[0], np.mean(lines_accuracies_list[1:])]\n",
    "\n",
    "zeroshot_accuracies_control_std = np.std(zeroshot_accuracies_list[1:])\n",
    "ft_accuracies_control_std = np.std(ft_accuracies_list[1:])\n",
    "lines_accuracies_control_std = np.std(lines_accuracies_list[1:])\n",
    "\n",
    "x = np.arange(2)\n",
    "width = 0.15\n",
    "\n",
    "fig, ax = plt.subplots(figsize=(6, 3.8))\n",
    "rects1 = ax.bar(x - width - 0.01, zeroshot_accuracies_avg, width, label='Zero-shot', color='tab:blue')\n",
    "rects2 = ax.bar(x, ft_accuracies_avg, width, label='Fine-tuned', color='tab:green')\n",
    "rects3 = ax.bar(x + width+0.01, lines_accuracies_avg, width, label='Fine-tuned + Lines', color='tab:orange')\n",
    "\n",
    "# plot the error bars for control datasets\n",
    "ax.errorbar(x[1] - width - 0.01, zeroshot_accuracies_avg[1], yerr=zeroshot_accuracies_control_std, fmt='none', ecolor='black', capsize=3)\n",
    "ax.errorbar(x[1], ft_accuracies_avg[1], yerr=ft_accuracies_control_std, fmt='none', ecolor='black', capsize=3)\n",
    "ax.errorbar(x[1] + width + 0.01, lines_accuracies_avg[1], yerr=lines_accuracies_control_std, fmt='none', ecolor='black', capsize=3)\n",
    "\n",
    "ax.set_ylabel('Accuracy', fontsize=14)\n",
    "ax.set_title(f'Accuracy on each dataset (Finetuned on {target_dataset} dataset)', fontsize=14)\n",
    "ax.set_xticks(x)\n",
    "ax.set_xticklabels(['Target task', 'Control tasks'])\n",
    "\n",
    "ax.legend()\n",
    "\n",
    "fig.tight_layout()\n",
    "plt.show()"
   ]
  },
  {
   "cell_type": "code",
   "execution_count": null,
   "metadata": {},
   "outputs": [],
   "source": []
  }
 ],
 "metadata": {
  "kernelspec": {
   "display_name": "ta",
   "language": "python",
   "name": "python3"
  },
  "language_info": {
   "codemirror_mode": {
    "name": "ipython",
    "version": 3
   },
   "file_extension": ".py",
   "mimetype": "text/x-python",
   "name": "python",
   "nbconvert_exporter": "python",
   "pygments_lexer": "ipython3",
   "version": "3.10.11"
  }
 },
 "nbformat": 4,
 "nbformat_minor": 2
}
