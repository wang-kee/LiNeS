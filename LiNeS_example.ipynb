{
 "cells": [
  {
   "cell_type": "code",
   "execution_count": 1,
   "metadata": {},
   "outputs": [
    {
     "name": "stderr",
     "output_type": "stream",
     "text": [
      "/conda/envs/ta/lib/python3.10/site-packages/tqdm/auto.py:21: TqdmWarning: IProgress not found. Please update jupyter and ipywidgets. See https://ipywidgets.readthedocs.io/en/stable/user_install.html\n",
      "  from .autonotebook import tqdm as notebook_tqdm\n"
     ]
    }
   ],
   "source": [
    "import argparse\n",
    "\n",
    "import torch\n",
    "import numpy as np\n",
    "\n",
    "from src.eval.eval import eval_single_dataset\n",
    "from src.models.modeling import ImageEncoder\n",
    "\n",
    "args = argparse.ArgumentParser()\n",
    "args.model = \"ViT-B-32\"\n",
    "args.batch_size = 32\n",
    "args.device = \"cuda\"\n",
    "args.save_dir = \"temp\"\n",
    "# modify your data and checkpoint paths here\n",
    "args.data_location = \"/mnt/lts4/scratch/data\"\n",
    "args.checkpoint_path = \"/mnt/lts4/scratch/checkpoints/tall_mask_checkpoints/mount/model_checkpoints\""
   ]
  },
  {
   "cell_type": "markdown",
   "metadata": {},
   "source": [
    "#### Choose target task (fine-tuned task) and control tasks"
   ]
  },
  {
   "cell_type": "code",
   "execution_count": 2,
   "metadata": {},
   "outputs": [
    {
     "name": "stdout",
     "output_type": "stream",
     "text": [
      "Target dataset: EuroSAT\n",
      "Control datasets: ['DTD', 'SUN397', 'MNIST', 'RESISC45', 'GTSRB', 'Cars', 'SVHN']\n"
     ]
    }
   ],
   "source": [
    "all_datasets = [\"EuroSAT\", \"DTD\", \"SUN397\", \"MNIST\", \"RESISC45\", \"GTSRB\", \"Cars\", \"SVHN\"]\n",
    "\n",
    "# choose the target task (fine-tuned task) here; the rest will be control tasks\n",
    "target_dataset = \"EuroSAT\" \n",
    "control_datasets = all_datasets.copy()\n",
    "control_datasets.remove(target_dataset)\n",
    "all_datasets = [target_dataset] + control_datasets\n",
    "\n",
    "print(f\"Target dataset: {target_dataset}\")\n",
    "print(f\"Control datasets: {control_datasets}\")"
   ]
  },
  {
   "cell_type": "markdown",
   "metadata": {},
   "source": [
    "#### Load checkpoints and create task vector"
   ]
  },
  {
   "cell_type": "code",
   "execution_count": 3,
   "metadata": {},
   "outputs": [],
   "source": [
    "# load the checkpoint finetuned on target task\n",
    "ft_checkpoint = torch.load(f\"{args.checkpoint_path}/ViT-B-32/{target_dataset}Val/nonlinear_finetuned.pt\") \n",
    "# load pre-trained model\n",
    "pt_checkpoint = torch.load(f\"{args.checkpoint_path}/ViT-B-32/MNISTVal/nonlinear_zeroshot.pt\")\n",
    "\n",
    "# compute the task vector\n",
    "task_vector = {k: ft_checkpoint[k] - pt_checkpoint[k] for k in ft_checkpoint.keys()}"
   ]
  },
  {
   "cell_type": "markdown",
   "metadata": {},
   "source": [
    "#### Evaluate the zero-shot accuracy of the pre-trained model"
   ]
  },
  {
   "cell_type": "code",
   "execution_count": 4,
   "metadata": {},
   "outputs": [
    {
     "data": {
      "text/plain": [
       "<All keys matched successfully>"
      ]
     },
     "execution_count": 4,
     "metadata": {},
     "output_type": "execute_result"
    }
   ],
   "source": [
    "# load the pre-trained model\n",
    "pt_image_encoder = ImageEncoder(\"ViT-B-32\")\n",
    "pt_image_encoder.load_state_dict(pt_checkpoint)"
   ]
  },
  {
   "cell_type": "code",
   "execution_count": 5,
   "metadata": {},
   "outputs": [
    {
     "name": "stdout",
     "output_type": "stream",
     "text": [
      "Loading classification head for ViT-B-32 on EuroSATVal from temp/head_EuroSATVal.pt\n",
      "Done evaluating on EuroSAT.\t Accuracy: 46.50%.\t Total time: 9.44s\n",
      "Zero-shot accuracy on dataset EuroSAT: 0.4650\n",
      "----------------------------------------------------------------------------------------------------\n",
      "Loading classification head for ViT-B-32 on DTDVal from temp/head_DTDVal.pt\n",
      "Done evaluating on DTD.\t Accuracy: 43.99%.\t Total time: 5.66s\n",
      "Zero-shot accuracy on dataset DTD: 0.4399\n",
      "----------------------------------------------------------------------------------------------------\n",
      "Loading classification head for ViT-B-32 on SUN397Val from temp/head_SUN397Val.pt\n",
      "Done evaluating on SUN397.\t Accuracy: 63.16%.\t Total time: 59.79s\n",
      "Zero-shot accuracy on dataset SUN397: 0.6316\n",
      "----------------------------------------------------------------------------------------------------\n",
      "Loading classification head for ViT-B-32 on MNISTVal from temp/head_MNISTVal.pt\n",
      "Done evaluating on MNIST.\t Accuracy: 48.26%.\t Total time: 11.54s\n",
      "Zero-shot accuracy on dataset MNIST: 0.4826\n",
      "----------------------------------------------------------------------------------------------------\n",
      "Loading classification head for ViT-B-32 on RESISC45Val from temp/head_RESISC45Val.pt\n",
      "Done evaluating on RESISC45.\t Accuracy: 60.67%.\t Total time: 13.61s\n",
      "Zero-shot accuracy on dataset RESISC45: 0.6067\n",
      "----------------------------------------------------------------------------------------------------\n",
      "Loading classification head for ViT-B-32 on GTSRBVal from temp/head_GTSRBVal.pt\n",
      "Done evaluating on GTSRB.\t Accuracy: 32.60%.\t Total time: 14.53s\n",
      "Zero-shot accuracy on dataset GTSRB: 0.3260\n",
      "----------------------------------------------------------------------------------------------------\n",
      "Loading classification head for ViT-B-32 on CarsVal from temp/head_CarsVal.pt\n",
      "Done evaluating on Cars.\t Accuracy: 59.73%.\t Total time: 11.10s\n",
      "Zero-shot accuracy on dataset Cars: 0.5973\n",
      "----------------------------------------------------------------------------------------------------\n",
      "Loading classification head for ViT-B-32 on SVHNVal from temp/head_SVHNVal.pt\n",
      "Using downloaded and verified file: /mnt/lts4/scratch/data/svhn/train_32x32.mat\n",
      "Using downloaded and verified file: /mnt/lts4/scratch/data/svhn/test_32x32.mat\n",
      "Done evaluating on SVHN.\t Accuracy: 31.63%.\t Total time: 30.98s\n",
      "Zero-shot accuracy on dataset SVHN: 0.3163\n",
      "----------------------------------------------------------------------------------------------------\n"
     ]
    }
   ],
   "source": [
    "# evaluate on all datasets\n",
    "zeroshot_accuracies = {}\n",
    "\n",
    "for dataset in all_datasets:\n",
    "    zeroshot_accuracy = eval_single_dataset(pt_image_encoder, dataset, args)\n",
    "    zeroshot_accuracies[dataset] = zeroshot_accuracy\n",
    "    print(f\"Zero-shot accuracy on dataset {dataset}: {zeroshot_accuracy['top1']:.4f}\")\n",
    "    print(\"-\"*100)"
   ]
  },
  {
   "cell_type": "markdown",
   "metadata": {},
   "source": [
    "#### Evaluate the fine-tuned model on target task and control tasks"
   ]
  },
  {
   "cell_type": "code",
   "execution_count": 6,
   "metadata": {},
   "outputs": [
    {
     "data": {
      "text/plain": [
       "<All keys matched successfully>"
      ]
     },
     "execution_count": 6,
     "metadata": {},
     "output_type": "execute_result"
    }
   ],
   "source": [
    "# load the finetuned checkpoint\n",
    "ft_image_encoder = ImageEncoder(\"ViT-B-32\")\n",
    "ft_image_encoder.load_state_dict(ft_checkpoint)"
   ]
  },
  {
   "cell_type": "code",
   "execution_count": 7,
   "metadata": {},
   "outputs": [
    {
     "name": "stdout",
     "output_type": "stream",
     "text": [
      "Loading classification head for ViT-B-32 on EuroSATVal from temp/head_EuroSATVal.pt\n",
      "Done evaluating on EuroSAT.\t Accuracy: 99.87%.\t Total time: 10.60s\n",
      "Accuracy on target dataset EuroSAT: 0.9987, 167.21% the performance compared to zero-shot\n",
      "----------------------------------------------------------------------------------------------------\n",
      "Loading classification head for ViT-B-32 on DTDVal from temp/head_DTDVal.pt\n",
      "Done evaluating on DTD.\t Accuracy: 37.50%.\t Total time: 5.90s\n",
      "Accuracy on control dataset DTD: 0.3750, 85.25% compared to zero-shot\n",
      "----------------------------------------------------------------------------------------------------\n",
      "Loading classification head for ViT-B-32 on SUN397Val from temp/head_SUN397Val.pt\n",
      "Done evaluating on SUN397.\t Accuracy: 52.60%.\t Total time: 57.85s\n",
      "Accuracy on control dataset SUN397: 0.5260, 83.27% compared to zero-shot\n",
      "----------------------------------------------------------------------------------------------------\n",
      "Loading classification head for ViT-B-32 on MNISTVal from temp/head_MNISTVal.pt\n",
      "Done evaluating on MNIST.\t Accuracy: 37.35%.\t Total time: 12.03s\n",
      "Accuracy on control dataset MNIST: 0.3735, 77.39% compared to zero-shot\n",
      "----------------------------------------------------------------------------------------------------\n",
      "Loading classification head for ViT-B-32 on RESISC45Val from temp/head_RESISC45Val.pt\n",
      "Done evaluating on RESISC45.\t Accuracy: 31.02%.\t Total time: 11.26s\n",
      "Accuracy on control dataset RESISC45: 0.3102, 51.13% compared to zero-shot\n",
      "----------------------------------------------------------------------------------------------------\n",
      "Loading classification head for ViT-B-32 on GTSRBVal from temp/head_GTSRBVal.pt\n",
      "Done evaluating on GTSRB.\t Accuracy: 25.60%.\t Total time: 15.12s\n",
      "Accuracy on control dataset GTSRB: 0.2560, 78.51% compared to zero-shot\n",
      "----------------------------------------------------------------------------------------------------\n",
      "Loading classification head for ViT-B-32 on CarsVal from temp/head_CarsVal.pt\n",
      "Done evaluating on Cars.\t Accuracy: 46.65%.\t Total time: 15.48s\n",
      "Accuracy on control dataset Cars: 0.4665, 78.10% compared to zero-shot\n",
      "----------------------------------------------------------------------------------------------------\n",
      "Loading classification head for ViT-B-32 on SVHNVal from temp/head_SVHNVal.pt\n",
      "Using downloaded and verified file: /mnt/lts4/scratch/data/svhn/train_32x32.mat\n",
      "Using downloaded and verified file: /mnt/lts4/scratch/data/svhn/test_32x32.mat\n",
      "Done evaluating on SVHN.\t Accuracy: 18.50%.\t Total time: 33.83s\n",
      "Accuracy on control dataset SVHN: 0.1850, 58.51% compared to zero-shot\n",
      "----------------------------------------------------------------------------------------------------\n"
     ]
    }
   ],
   "source": [
    "ft_accuracies = {}\n",
    "\n",
    "# evaluate on fine-tuned (target) dataset\n",
    "ft_accuracies[target_dataset] = eval_single_dataset(ft_image_encoder, target_dataset, args)\n",
    "print(f\"Accuracy on target dataset {target_dataset}: {ft_accuracies[target_dataset]['top1']:.4f}, {ft_accuracies[target_dataset]['top1'] / zeroshot_accuracies['Cars']['top1'] * 100:.2f}% the performance compared to zero-shot\")\n",
    "print(\"-\"*100)\n",
    "\n",
    "# evaluate on control datasets\n",
    "for control_dataset in control_datasets:\n",
    "    ft_accuracies[control_dataset] = eval_single_dataset(ft_image_encoder, control_dataset, args)\n",
    "    print(f\"Accuracy on control dataset {control_dataset}: {ft_accuracies[control_dataset]['top1']:.4f}, {ft_accuracies[control_dataset]['top1'] / zeroshot_accuracies[control_dataset]['top1'] * 100:.2f}% compared to zero-shot\")\n",
    "    print(\"-\"*100)"
   ]
  },
  {
   "cell_type": "markdown",
   "metadata": {},
   "source": [
    "#### Evaluate the fine-tuned model edited with LiNeS, on target task and control tasks"
   ]
  },
  {
   "cell_type": "code",
   "execution_count": 8,
   "metadata": {},
   "outputs": [],
   "source": [
    "def line_scaling(task_vector, alpha=0.0, beta=1.0, num_blocks=12):\n",
    "    \"\"\"\n",
    "    Progressively scales the task vector based on layer depth.\n",
    "\n",
    "    Parameters:\n",
    "    -----------\n",
    "    task_vector : dict\n",
    "        A dictionary representing the residual between the fine-tuned checkpoint \n",
    "        and the pre-trained checkpoint. \n",
    "    alpha : float\n",
    "         The minimum scaling factor for the blocks.\n",
    "    beta : float\n",
    "        The maximum scaling coefficient difference between the last and first block.\n",
    "    num_blocks : int\n",
    "        The total number of layer blocks in the model. \n",
    "    Returns:\n",
    "    --------\n",
    "    scaled_task_vector : dict\n",
    "        A copy of `task_vector` where each key is scaled based on the layer depth.\n",
    "    \"\"\"\n",
    "    \n",
    "    import copy\n",
    "    \n",
    "    # Deep copy the task vector to avoid modifying the original\n",
    "    scaled_task_vector = copy.deepcopy(task_vector)\n",
    "\n",
    "    # Generate the key blocks corresponding to the layers of the model\n",
    "    key_blocks = [f\".resblocks.{i}.\" for i in range(num_blocks)]\n",
    "\n",
    "    # Create a scaling dictionary to store the scaling factor for each key\n",
    "    scaling_dic = {}\n",
    "    for k in task_vector.keys():\n",
    "        # Find the layer block in the key and assign scaling factor based on layer depth\n",
    "        for layer, block in enumerate(key_blocks):\n",
    "            if block in k:\n",
    "                scaling_dic[k] = alpha + beta * (layer / (num_blocks - 1))\n",
    "                break\n",
    "\n",
    "    print(f\"LiNeS: The layers are scaled between {alpha} to {alpha + beta}\")\n",
    "\n",
    "    # Scale the task vector based on the scaling dictionary\n",
    "    scaled_task_vector = {\n",
    "        # Use alpha if layer is outside residual blocks\n",
    "        k: task_vector[k] * scaling_dic.get(k, alpha)  \n",
    "        for k in task_vector.keys()\n",
    "    }\n",
    "\n",
    "    return scaled_task_vector"
   ]
  },
  {
   "cell_type": "markdown",
   "metadata": {},
   "source": [
    "##### Apply LiNeS:\n",
    "Set the strength of the downscaling with alpha; the smaller alpha, the stronger scaling.\n",
    "Smaller alpha restores more control accuracy, while larger alpha preserves more target accuracy"
   ]
  },
  {
   "cell_type": "code",
   "execution_count": 9,
   "metadata": {},
   "outputs": [
    {
     "name": "stdout",
     "output_type": "stream",
     "text": [
      "LiNeS: The layers are scaled between 0.1 to 1.0\n"
     ]
    },
    {
     "data": {
      "text/plain": [
       "<All keys matched successfully>"
      ]
     },
     "execution_count": 9,
     "metadata": {},
     "output_type": "execute_result"
    }
   ],
   "source": [
    "alpha = 0.1\n",
    "\n",
    "scaled_task_vector = line_scaling(task_vector, alpha=alpha, beta=1-alpha, num_blocks=12)\n",
    "ft_lines_checkpoint = {k: pt_checkpoint[k] + scaled_task_vector[k] for k in pt_checkpoint.keys()}\n",
    "\n",
    "ft_lines_image_encoder = ImageEncoder(\"ViT-B-32\")\n",
    "ft_lines_image_encoder.load_state_dict(ft_lines_checkpoint)"
   ]
  },
  {
   "cell_type": "code",
   "execution_count": 10,
   "metadata": {},
   "outputs": [
    {
     "name": "stdout",
     "output_type": "stream",
     "text": [
      "Loading classification head for ViT-B-32 on EuroSATVal from temp/head_EuroSATVal.pt\n",
      "Done evaluating on EuroSAT.\t Accuracy: 98.70%.\t Total time: 11.46s\n",
      "Accuracy on target dataset EuroSAT: 0.9870, 165.24% the performance compared to zero-shot, 98.83% the performance compared to fine-tuned\n",
      "----------------------------------------------------------------------------------------------------\n",
      "Loading classification head for ViT-B-32 on DTDVal from temp/head_DTDVal.pt\n",
      "Done evaluating on DTD.\t Accuracy: 43.83%.\t Total time: 6.31s\n",
      "Accuracy on control dataset DTD: 0.4383, 99.64% compared to zero-shot\n",
      "----------------------------------------------------------------------------------------------------\n",
      "Loading classification head for ViT-B-32 on SUN397Val from temp/head_SUN397Val.pt\n",
      "Done evaluating on SUN397.\t Accuracy: 61.98%.\t Total time: 44.83s\n",
      "Accuracy on control dataset SUN397: 0.6198, 98.13% compared to zero-shot\n",
      "----------------------------------------------------------------------------------------------------\n",
      "Loading classification head for ViT-B-32 on MNISTVal from temp/head_MNISTVal.pt\n",
      "Done evaluating on MNIST.\t Accuracy: 55.52%.\t Total time: 12.16s\n",
      "Accuracy on control dataset MNIST: 0.5552, 115.04% compared to zero-shot\n",
      "----------------------------------------------------------------------------------------------------\n",
      "Loading classification head for ViT-B-32 on RESISC45Val from temp/head_RESISC45Val.pt\n",
      "Done evaluating on RESISC45.\t Accuracy: 46.51%.\t Total time: 13.91s\n",
      "Accuracy on control dataset RESISC45: 0.4651, 76.66% compared to zero-shot\n",
      "----------------------------------------------------------------------------------------------------\n",
      "Loading classification head for ViT-B-32 on GTSRBVal from temp/head_GTSRBVal.pt\n",
      "Done evaluating on GTSRB.\t Accuracy: 34.32%.\t Total time: 14.23s\n",
      "Accuracy on control dataset GTSRB: 0.3432, 105.25% compared to zero-shot\n",
      "----------------------------------------------------------------------------------------------------\n",
      "Loading classification head for ViT-B-32 on CarsVal from temp/head_CarsVal.pt\n",
      "Done evaluating on Cars.\t Accuracy: 58.04%.\t Total time: 11.06s\n",
      "Accuracy on control dataset Cars: 0.5804, 97.17% compared to zero-shot\n",
      "----------------------------------------------------------------------------------------------------\n",
      "Loading classification head for ViT-B-32 on SVHNVal from temp/head_SVHNVal.pt\n",
      "Using downloaded and verified file: /mnt/lts4/scratch/data/svhn/train_32x32.mat\n",
      "Using downloaded and verified file: /mnt/lts4/scratch/data/svhn/test_32x32.mat\n",
      "Done evaluating on SVHN.\t Accuracy: 33.91%.\t Total time: 29.85s\n",
      "Accuracy on control dataset SVHN: 0.3391, 107.21% compared to zero-shot\n",
      "----------------------------------------------------------------------------------------------------\n"
     ]
    }
   ],
   "source": [
    "lines_accuracies = {}\n",
    "\n",
    "# evaluate on fine-tuned (target) dataset\n",
    "lines_accuracies[target_dataset] = eval_single_dataset(ft_lines_image_encoder, target_dataset, args)\n",
    "print(f\"Accuracy on target dataset {target_dataset}: {lines_accuracies[target_dataset]['top1']:.4f}, {lines_accuracies[target_dataset]['top1'] / zeroshot_accuracies['Cars']['top1'] * 100:.2f}% the performance compared to zero-shot, {lines_accuracies[target_dataset]['top1'] / ft_accuracies[target_dataset]['top1'] * 100:.2f}% the performance compared to fine-tuned\")\n",
    "print(\"-\"*100)\n",
    "\n",
    "# evaluate on control datasets\n",
    "for control_dataset in control_datasets:\n",
    "    lines_accuracies[control_dataset] = eval_single_dataset(ft_lines_image_encoder, control_dataset, args)\n",
    "    print(f\"Accuracy on control dataset {control_dataset}: {lines_accuracies[control_dataset]['top1']:.4f}, {lines_accuracies[control_dataset]['top1'] / zeroshot_accuracies[control_dataset]['top1'] * 100:.2f}% compared to zero-shot\")\n",
    "    print(\"-\"*100)"
   ]
  },
  {
   "cell_type": "markdown",
   "metadata": {},
   "source": [
    "#### Result comparison"
   ]
  },
  {
   "cell_type": "markdown",
   "metadata": {},
   "source": [
    "Separately for each task:"
   ]
  },
  {
   "cell_type": "code",
   "execution_count": 11,
   "metadata": {},
   "outputs": [
    {
     "data": {
      "image/png": "[encoded data removed]",
      "text/plain": [
       "<Figure size 700x400 with 1 Axes>"
      ]
     },
     "metadata": {},
     "output_type": "display_data"
    }
   ],
   "source": [
    "# plot for each method: zeroshot, ft, lines, a bar plot for the accuracies on each dataset\n",
    "import matplotlib.pyplot as plt\n",
    "\n",
    "datasets = all_datasets\n",
    "zeroshot_accuracies_list = [zeroshot_accuracies[dataset]['top1'] for dataset in datasets]\n",
    "ft_accuracies_list = [ft_accuracies[dataset]['top1'] for dataset in datasets]\n",
    "lines_accuracies_list = [lines_accuracies[dataset]['top1'] for dataset in datasets]\n",
    "\n",
    "x = np.arange(len(datasets))\n",
    "width = 0.25\n",
    "\n",
    "fig, ax = plt.subplots(figsize=(7, 4))\n",
    "rects1 = ax.bar(x - width - 0.01, zeroshot_accuracies_list, width, label='Zero-shot', color='tab:blue')\n",
    "rects2 = ax.bar(x, ft_accuracies_list, width, label='Fine-tuned', color='tab:green')\n",
    "rects3 = ax.bar(x + width+0.01, lines_accuracies_list, width, label='Fine-tuned + Lines', color='tab:orange')\n",
    "\n",
    "ax.set_ylabel('Accuracy', fontsize=14)\n",
    "ax.set_title(f'Accuracy on each dataset (Finetuned on {target_dataset} dataset)', fontsize=14)\n",
    "ax.set_xticks(x)\n",
    "ax.set_xticklabels(datasets)\n",
    "\n",
    "ax.legend()\n",
    "\n",
    "fig.tight_layout()\n",
    "plt.show()"
   ]
  },
  {
   "cell_type": "markdown",
   "metadata": {},
   "source": [
    "Averaged the accuracy for control tasks:"
   ]
  },
  {
   "cell_type": "code",
   "execution_count": 12,
   "metadata": {},
   "outputs": [
    {
     "data": {
      "image/png": "[encoded data removed]",
      "text/plain": [
       "<Figure size 600x380 with 1 Axes>"
      ]
     },
     "metadata": {},
     "output_type": "display_data"
    }
   ],
   "source": [
    "# plot for each method: zeroshot, ft, lines, a bar plot for the accuracies on each dataset\n",
    "import matplotlib.pyplot as plt\n",
    "\n",
    "datasets = all_datasets\n",
    "zeroshot_accuracies_avg = [zeroshot_accuracies_list[0], np.mean(zeroshot_accuracies_list[1:])]\n",
    "ft_accuracies_avg = [ft_accuracies_list[0], np.mean(ft_accuracies_list[1:])]\n",
    "lines_accuracies_avg = [lines_accuracies_list[0], np.mean(lines_accuracies_list[1:])]\n",
    "\n",
    "zeroshot_accuracies_control_std = np.std(zeroshot_accuracies_list[1:])\n",
    "ft_accuracies_control_std = np.std(ft_accuracies_list[1:])\n",
    "lines_accuracies_control_std = np.std(lines_accuracies_list[1:])\n",
    "\n",
    "x = np.arange(2)\n",
    "width = 0.15\n",
    "\n",
    "fig, ax = plt.subplots(figsize=(6, 3.8))\n",
    "rects1 = ax.bar(x - width - 0.01, zeroshot_accuracies_avg, width, label='Zero-shot', color='tab:blue')\n",
    "rects2 = ax.bar(x, ft_accuracies_avg, width, label='Fine-tuned', color='tab:green')\n",
    "rects3 = ax.bar(x + width+0.01, lines_accuracies_avg, width, label='Fine-tuned + Lines', color='tab:orange')\n",
    "\n",
    "# plot the std for control datasets\n",
    "ax.errorbar(x[1] - width - 0.01, zeroshot_accuracies_avg[1], yerr=zeroshot_accuracies_control_std, fmt='none', ecolor='black', capsize=3)\n",
    "ax.errorbar(x[1], ft_accuracies_avg[1], yerr=ft_accuracies_control_std, fmt='none', ecolor='black', capsize=3)\n",
    "ax.errorbar(x[1] + width + 0.01, lines_accuracies_avg[1], yerr=lines_accuracies_control_std, fmt='none', ecolor='black', capsize=3)\n",
    "\n",
    "ax.set_ylabel('Accuracy', fontsize=14)\n",
    "ax.set_title(f'Accuracy on target and control tasks (Finetuned on {target_dataset})', fontsize=14)\n",
    "ax.set_xticks(x)\n",
    "ax.set_xticklabels(['Target task', 'Control tasks'])\n",
    "\n",
    "ax.legend()\n",
    "\n",
    "fig.tight_layout()\n",
    "plt.show()"
   ]
  },
  {
   "cell_type": "code",
   "execution_count": null,
   "metadata": {},
   "outputs": [],
   "source": []
  }
 ],
 "metadata": {
  "kernelspec": {
   "display_name": "ta",
   "language": "python",
   "name": "python3"
  },
  "language_info": {
   "codemirror_mode": {
    "name": "ipython",
    "version": 3
   },
   "file_extension": ".py",
   "mimetype": "text/x-python",
   "name": "python",
   "nbconvert_exporter": "python",
   "pygments_lexer": "ipython3",
   "version": "3.10.11"
  }
 },
 "nbformat": 4,
 "nbformat_minor": 2
}
